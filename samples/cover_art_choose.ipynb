{
 "cells": [
  {
   "cell_type": "code",
   "execution_count": 36,
   "metadata": {},
   "outputs": [
    {
     "data": {
      "text/plain": [
       "[Block(shape='cylinder', color='yellow'),\n",
       " Block(shape='small_rectangle', color='red'),\n",
       " Block(shape='cube', color='beige'),\n",
       " Block(shape='cube', color='blue'),\n",
       " Block(shape='triangle', color='red'),\n",
       " Block(shape='small_rectangle', color='green')]"
      ]
     },
     "metadata": {},
     "output_type": "display_data"
    }
   ],
   "source": [
    "from dataclasses import dataclass\n",
    "import random\n",
    "\n",
    "@dataclass\n",
    "class Block:\n",
    "    shape: str\n",
    "    color: str\n",
    "\n",
    "\n",
    "def make_blocks(shape: str, colors: list[str]) -> list[Block]:\n",
    "    return [Block(shape=shape, color=color) for color in colors]\n",
    "\n",
    "cubes = make_blocks(\"cube\", [\"red\", \"green\", \"blue\", \"beige\"])\n",
    "cylinders = make_blocks(\"cylinder\", [\"green\", \"yellow\", \"beige\"])\n",
    "triangles = make_blocks(\"triangle\", [\"red\", \"green\", \"blue\", \"beige\", \"yellow\"])\n",
    "small_rectangles = make_blocks(\"small_rectangle\", [\"red\", \"green\", \"blue\"])\n",
    "large_rectangles = make_blocks(\"large_rectangle\", [\"beige\", \"yellow\"])\n",
    "\n",
    "all_cubes = cubes + cylinders + triangles + small_rectangles + large_rectangles\n",
    "nr_of_cubes = random.randrange(3, 7)\n",
    "choosen_cubes = random.sample(all_cubes, nr_of_cubes) \n",
    "\n",
    "display(choosen_cubes)\n",
    "\n"
   ]
  }
 ],
 "metadata": {
  "kernelspec": {
   "display_name": "Python 3",
   "language": "python",
   "name": "python3"
  },
  "language_info": {
   "codemirror_mode": {
    "name": "ipython",
    "version": 3
   },
   "file_extension": ".py",
   "mimetype": "text/x-python",
   "name": "python",
   "nbconvert_exporter": "python",
   "pygments_lexer": "ipython3",
   "version": "3.12.2"
  }
 },
 "nbformat": 4,
 "nbformat_minor": 2
}
