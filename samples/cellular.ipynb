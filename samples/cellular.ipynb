{
 "cells": [
  {
   "cell_type": "code",
   "execution_count": null,
   "metadata": {},
   "outputs": [],
   "source": [
    "# Wolfram ruleset 30\n",
    "# 111 110 101 100 011 010 001 000\n",
    "#  0   0   0   1   1   1   1   0"
   ]
  },
  {
   "cell_type": "code",
   "execution_count": 14,
   "metadata": {},
   "outputs": [
    {
     "name": "stdout",
     "output_type": "stream",
     "text": [
      "0\n"
     ]
    }
   ],
   "source": [
    "from typing import TypeVar\n",
    "T = TypeVar('T')\n",
    "\n",
    "test = [0, 1, 2, 3]\n",
    "\n",
    "def prev_item(the_list: list[T], pos: int) -> T:\n",
    "    scaled_pos = (pos - 1) % len(the_list)\n",
    "    return the_list[scaled_pos]\n",
    "\n",
    "def next_item(the_list: list[T], pos: int) -> T:\n",
    "    scaled_pos = (pos + 1) % len(the_list)\n",
    "    return the_list[scaled_pos]\n",
    "\n",
    "print(next(test, 3))"
   ]
  },
  {
   "cell_type": "code",
   "execution_count": 17,
   "metadata": {},
   "outputs": [
    {
     "name": "stdout",
     "output_type": "stream",
     "text": [
      "[0, 0, 0, 0, 0, 1, 0, 0, 0, 0, 0]\n",
      "[0, 0, 0, 0, 1, 1, 1, 0, 0, 0, 0]\n",
      "[0, 0, 0, 1, 1, 0, 0, 1, 0, 0, 0]\n",
      "[0, 0, 1, 1, 0, 1, 1, 1, 1, 0, 0]\n",
      "[0, 1, 1, 0, 0, 1, 0, 0, 0, 1, 0]\n",
      "[1, 1, 0, 1, 1, 1, 1, 0, 1, 1, 1]\n",
      "[0, 0, 0, 1, 0, 0, 0, 0, 1, 0, 0]\n",
      "[0, 0, 1, 1, 1, 0, 0, 1, 1, 1, 0]\n",
      "[0, 1, 1, 0, 0, 1, 1, 1, 0, 0, 1]\n",
      "[0, 1, 0, 1, 1, 1, 0, 0, 1, 1, 1]\n",
      "[0, 1, 0, 1, 0, 0, 1, 1, 1, 0, 0]\n",
      "[1, 1, 0, 1, 1, 1, 1, 0, 0, 1, 0]\n",
      "[1, 0, 0, 1, 0, 0, 0, 1, 1, 1, 0]\n",
      "[1, 1, 1, 1, 1, 0, 1, 1, 0, 0, 0]\n",
      "[1, 0, 0, 0, 0, 0, 1, 0, 1, 0, 1]\n",
      "[0, 1, 0, 0, 0, 1, 1, 0, 1, 0, 1]\n",
      "[0, 1, 1, 0, 1, 1, 0, 0, 1, 0, 1]\n",
      "[0, 1, 0, 0, 1, 0, 1, 1, 1, 0, 1]\n",
      "[0, 1, 1, 1, 1, 0, 1, 0, 0, 0, 1]\n",
      "[0, 1, 0, 0, 0, 0, 1, 1, 0, 1, 1]\n",
      "[0, 1, 1, 0, 0, 1, 1, 0, 0, 1, 0]\n"
     ]
    }
   ],
   "source": [
    "ruleset_30 = {\n",
    "    (1, 1, 1): 0,\n",
    "    (1, 1, 0): 0,\n",
    "    (1, 0, 1): 0,\n",
    "    (1, 0, 0): 1,\n",
    "    (0, 1, 1): 1,\n",
    "    (0, 1, 0): 1,\n",
    "    (0, 0, 1): 1,\n",
    "    (0, 0, 0): 0\n",
    "}\n",
    "\n",
    "def next_generation(current_state: list[int], rule_set: list[int]) -> list[int]:\n",
    "    next_state = []\n",
    "    for current_item, current_value in enumerate(current_state):\n",
    "        prev_value = prev_item(current_state, current_item)\n",
    "        next_value = next_item(current_state, current_item)\n",
    "        current_neighbours = (prev_value, current_value, next_value)\n",
    "        next_state.append(rule_set[current_neighbours])\n",
    "    return next_state\n",
    "\n",
    "the_state = [0, 0, 0, 0, 0, 1, 0, 0, 0, 0, 0]\n",
    "print(the_state)\n",
    "for _ in range(20):\n",
    "    the_state = next_generation(the_state, ruleset_30)\n",
    "    print(the_state)"
   ]
  }
 ],
 "metadata": {
  "kernelspec": {
   "display_name": "Python 3",
   "language": "python",
   "name": "python3"
  },
  "language_info": {
   "codemirror_mode": {
    "name": "ipython",
    "version": 3
   },
   "file_extension": ".py",
   "mimetype": "text/x-python",
   "name": "python",
   "nbconvert_exporter": "python",
   "pygments_lexer": "ipython3",
   "version": "3.11.7"
  }
 },
 "nbformat": 4,
 "nbformat_minor": 2
}
