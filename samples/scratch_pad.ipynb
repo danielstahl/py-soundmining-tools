{
 "cells": [
  {
   "cell_type": "code",
   "execution_count": 1,
   "metadata": {},
   "outputs": [],
   "source": [
    "import sys\n",
    " \n",
    "sys.path.append('..')\n",
    "from piece import piece\n",
    "\n",
    "piece.start(should_send_to_score=False)"
   ]
  },
  {
   "cell_type": "code",
   "execution_count": 108,
   "metadata": {},
   "outputs": [],
   "source": [
    "from soundmining_tools.supercollider_receiver import ExtendedNoteHandler, PatchArguments\n",
    "from soundmining_tools.supercollider_client import SupercolliderClient\n",
    "from soundmining_tools import note, spectrum\n",
    "from soundmining_tools.generative import *\n",
    "from soundmining_tools.sieve import *\n",
    "from soundmining_tools.modular.control_instruments import ControlInstrument\n",
    "from soundmining_tools.modular.instrument import NodeId\n",
    "import math\n",
    "from typing import Callable\n",
    "\n",
    "from soundmining_tools.sequencer import Sequencer, SequenceNote\n",
    "from enum import Enum\n",
    "from soundmining_tools import supercollider_client\n",
    "from soundmining_tools.modular import instrument\n",
    "import random\n",
    "\n",
    "piece.reset()\n",
    "piece.synth_player \\\n",
    "    .start()\n",
    "\n",
    "class NoiseNoteHandler(ExtendedNoteHandler):\n",
    "    def __init__(self, client: SupercolliderClient) -> None:\n",
    "        super().__init__(client)        \n",
    "\n",
    "    \n",
    "    def handle_note(self, patch_arguments: PatchArguments) -> None:\n",
    "    \n",
    "                            \n",
    "class MyHandler(ExtendedNoteHandler):\n",
    "    def __init__(self, client: SupercolliderClient) -> None:\n",
    "        super().__init__(client)        \n",
    "\n",
    "    def handle_note(self, patch_arguments: PatchArguments) -> None:            \n",
    "        pass                \n",
    "            \n",
    "        \n",
    "\n",
    "my_handler = MyHandler(piece.supercollider_client)\n",
    "piece.receiver.set_note_handler(my_handler)                    \n"
   ]
  },
  {
   "cell_type": "code",
   "execution_count": 1,
   "metadata": {},
   "outputs": [
    {
     "ename": "NameError",
     "evalue": "name 'piece' is not defined",
     "output_type": "error",
     "traceback": [
      "\u001b[0;31m---------------------------------------------------------------------------\u001b[0m",
      "\u001b[0;31mNameError\u001b[0m                                 Traceback (most recent call last)",
      "Cell \u001b[0;32mIn[1], line 1\u001b[0m\n\u001b[0;32m----> 1\u001b[0m \u001b[43mpiece\u001b[49m\u001b[38;5;241m.\u001b[39mstop()\n",
      "\u001b[0;31mNameError\u001b[0m: name 'piece' is not defined"
     ]
    }
   ],
   "source": [
    "piece.stop()\n"
   ]
  }
 ],
 "metadata": {
  "kernelspec": {
   "display_name": ".venv",
   "language": "python",
   "name": "python3"
  },
  "language_info": {
   "codemirror_mode": {
    "name": "ipython",
    "version": 3
   },
   "file_extension": ".py",
   "mimetype": "text/x-python",
   "name": "python",
   "nbconvert_exporter": "python",
   "pygments_lexer": "ipython3",
   "version": "3.12.2"
  },
  "orig_nbformat": 4
 },
 "nbformat": 4,
 "nbformat_minor": 2
}
