{
 "cells": [
  {
   "cell_type": "code",
   "execution_count": null,
   "metadata": {},
   "outputs": [],
   "source": [
    "import sys\n",
    "\n",
    "sys.path.append(\"..\")\n",
    "from piece import piece\n",
    "\n",
    "piece.start(should_send_to_score=False)"
   ]
  },
  {
   "cell_type": "code",
   "execution_count": 32,
   "metadata": {},
   "outputs": [],
   "source": [
    "from enum import StrEnum\n",
    "from soundmining_tools.supercollider_receiver import ExtendedNoteHandler, PatchArguments\n",
    "from soundmining_tools.supercollider_client import SupercolliderClient\n",
    "import random\n",
    "from soundmining_tools.generative import *\n",
    "\n",
    "SOUND_PATH = (\n",
    "    \"/Users/danielstahl/Documents/Music/Pieces/Concrete Music/Concrete Music 14/sounds/Concrete Music 14_sounds\"\n",
    ")\n",
    "\n",
    "Sound = StrEnum(\"Sound\", [\"PAPER\"])\n",
    "\n",
    "piece.reset()\n",
    "(\n",
    "    piece.synth_player\n",
    "        .add_sound(Sound.PAPER, f\"{SOUND_PATH}/Paper.aif\", 0.0, 2.500)        \n",
    "        .start()\n",
    ")\n",
    "\n",
    "class ShortSoundHandler(ExtendedNoteHandler):\n",
    "    def __init__(self, client: SupercolliderClient) -> None:\n",
    "        super().__init__(client)\n",
    "        \n",
    "    \n",
    "    def handle_note(self, patch_arguments: PatchArguments) -> None:          \n",
    "        match patch_arguments.midi_note:\n",
    "            case 48:\n",
    "                start = 0.881\n",
    "                end = 0.949\n",
    "                grain_dur = end - start\n",
    "                current_time = patch_arguments.start\n",
    "                for i in range(100):                               \n",
    "                    (\n",
    "                        piece.synth_player.note()\n",
    "                        .sound_mono(Sound.PAPER, 1.0, piece.control_instruments.sine_control(0, 20), start_override=0.881, end_override=0.949)\n",
    "                        .pan(piece.control_instruments.static_control(0))                    \n",
    "                        .play(start_time=current_time)                \n",
    "                    )\n",
    "                    current_time += grain_dur - random_range(0.04, 0.06)\n",
    "\n",
    "\n",
    "my_handler = ShortSoundHandler(piece.supercollider_client)\n",
    "piece.receiver.set_note_handler(my_handler)\n"
   ]
  },
  {
   "cell_type": "code",
   "execution_count": null,
   "metadata": {},
   "outputs": [],
   "source": [
    "piece.stop()"
   ]
  }
 ],
 "metadata": {
  "kernelspec": {
   "display_name": ".venv",
   "language": "python",
   "name": "python3"
  },
  "language_info": {
   "codemirror_mode": {
    "name": "ipython",
    "version": 3
   },
   "file_extension": ".py",
   "mimetype": "text/x-python",
   "name": "python",
   "nbconvert_exporter": "python",
   "pygments_lexer": "ipython3",
   "version": "3.12.8"
  }
 },
 "nbformat": 4,
 "nbformat_minor": 2
}
