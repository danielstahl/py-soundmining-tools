{
 "cells": [
  {
   "cell_type": "code",
   "execution_count": 1,
   "metadata": {},
   "outputs": [],
   "source": [
    "import sys\n",
    "\n",
    "sys.path.append(\"..\")\n",
    "from piece import piece\n",
    "\n",
    "piece.start(should_send_to_score=False)"
   ]
  },
  {
   "cell_type": "code",
   "execution_count": 83,
   "metadata": {},
   "outputs": [],
   "source": [
    "from soundmining_tools.supercollider_receiver import ExtendedNoteHandler, PatchArguments\n",
    "from soundmining_tools.supercollider_client import SupercolliderClient\n",
    "from soundmining_tools.spectrum import ring_modulate\n",
    "\n",
    "import random\n",
    "SOUND_PATH = \"/Users/danielstahl/Documents/Music/Pieces/Concrete Music/Concrete Music 11/sounds/Concrete Music 11_sounds\"\n",
    "\n",
    "piece.reset()\n",
    "(piece.synth_player\n",
    " .start())\n",
    "\n",
    "class MyHandler(ExtendedNoteHandler):\n",
    "    def __init__(self, client: SupercolliderClient) -> None:\n",
    "        super().__init__(client)\n",
    "\n",
    "    def handle_note(self, patch_arguments: PatchArguments) -> None:\n",
    "        pass\n",
    "                \n",
    "                \n",
    "\n",
    "my_handler = MyHandler(piece.supercollider_client)\n",
    "piece.receiver.set_note_handler(my_handler)                    \n",
    "\n"
   ]
  },
  {
   "cell_type": "code",
   "execution_count": null,
   "metadata": {},
   "outputs": [],
   "source": [
    "piece.stop()"
   ]
  },
  {
   "cell_type": "code",
   "execution_count": 68,
   "metadata": {},
   "outputs": [
    {
     "data": {
      "text/plain": [
       "0.25443786982248523"
      ]
     },
     "execution_count": 68,
     "metadata": {},
     "output_type": "execute_result"
    }
   ],
   "source": [
    "ring_modulate(1060, 845)\n",
    "\n",
    "215 / 845 \n",
    "\n"
   ]
  }
 ],
 "metadata": {
  "kernelspec": {
   "display_name": "Python 3",
   "language": "python",
   "name": "python3"
  },
  "language_info": {
   "codemirror_mode": {
    "name": "ipython",
    "version": 3
   },
   "file_extension": ".py",
   "mimetype": "text/x-python",
   "name": "python",
   "nbconvert_exporter": "python",
   "pygments_lexer": "ipython3",
   "version": "3.12.2"
  }
 },
 "nbformat": 4,
 "nbformat_minor": 2
}
