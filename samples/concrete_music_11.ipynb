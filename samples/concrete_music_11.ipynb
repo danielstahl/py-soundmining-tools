{
 "cells": [
  {
   "cell_type": "code",
   "execution_count": 1,
   "metadata": {},
   "outputs": [],
   "source": [
    "import sys\n",
    "\n",
    "sys.path.append(\"..\")\n",
    "from piece import piece\n",
    "\n",
    "piece.start(should_send_to_score=False)"
   ]
  },
  {
   "cell_type": "code",
   "execution_count": 83,
   "metadata": {},
   "outputs": [],
   "source": [
    "from soundmining_tools.supercollider_receiver import ExtendedNoteHandler, PatchArguments\n",
    "from soundmining_tools.supercollider_client import SupercolliderClient\n",
    "from soundmining_tools.spectrum import ring_modulate\n",
    "\n",
    "import random\n",
    "SOUND_PATH = \"/Users/danielstahl/Documents/Music/Pieces/Concrete Music/Concrete Music 11/sounds/Concrete Music 11_sounds\"\n",
    "\n",
    "GLASS_TONE_SOUND = \"glass_tone\"\n",
    "# 845, 951, 1060, 1162, 1327, 1466\n",
    "GLASS_HIT_SOUND = \"glass_hit\"\n",
    "# 216, 654, 846.5, 982, 1053.5\n",
    "VASE_TONE_SOUND = \"vase_tone\"\n",
    "# 313, \n",
    "\n",
    "piece.reset()\n",
    "(piece.synth_player\n",
    " .add_sound(GLASS_TONE_SOUND, f\"{SOUND_PATH}/Glass Tone.flac\", 0.119, 4.097)\n",
    " .add_sound(GLASS_HIT_SOUND, f\"{SOUND_PATH}/Class Hit.flac\", 0.086, 0.186)\n",
    " .add_sound(VASE_TONE_SOUND, f\"{SOUND_PATH}/Vase Tone.flac\", 0.043, 0.463)\n",
    " .start())\n",
    "\n",
    "class GlassToneRingHandler(ExtendedNoteHandler):\n",
    "    def __init__(self, client: SupercolliderClient) -> None:\n",
    "        super().__init__(client)\n",
    "\n",
    "    def handle_note(self, patch_arguments: PatchArguments) -> None:\n",
    "        ring_tones = [845, 951, 1060, 1162, 1327, 1466]\n",
    "        ring_freq = ring_tones[patch_arguments.note]\n",
    "        #ring_freq = random.choice([216, 654, 846.5, 982, 1053.5])                              \n",
    "        match patch_arguments.octave:\n",
    "            case 2:\n",
    "                (piece.synth_player.note()\n",
    "                    .sound_mono(GLASS_TONE_SOUND, 1, piece.synth_player.control_instruments.static_control(1))\n",
    "                    .ring_modulate(piece.synth_player.control_instruments.static_control(ring_freq))\n",
    "                    .pan(piece.synth_player.control_instruments.static_control(0))\n",
    "                    .play(patch_arguments.start))\n",
    "            case 3:\n",
    "                duration = 5                                \n",
    "                (piece.synth_player.note()\n",
    "                    .sound_mono(GLASS_TONE_SOUND, 1, piece.synth_player.control_instruments.static_control(1))                    \n",
    "                    .ring_modulate(piece.synth_player.control_instruments.static_control(ring_freq))\n",
    "                    .pan(piece.synth_player.control_instruments.static_control(0))\n",
    "                    .stereo_free_reverb(piece.synth_player.control_instruments.sine_control(0, 5), mix=0.33, room=0.5, damp=0.8) \\\n",
    "                    .play(patch_arguments.start, duration))\n",
    "                \n",
    "                \n",
    "class NoiseNoteHandler(ExtendedNoteHandler):\n",
    "    def __init__(self, client: SupercolliderClient) -> None:\n",
    "        super().__init__(client)\n",
    "\n",
    "    def handle_note(self, patch_arguments: PatchArguments) -> None:\n",
    "        match patch_arguments.note:\n",
    "            case 0:\n",
    "                ring_freq = random.choice([845, 951, 1060, 1162, 1327, 1466])  \n",
    "                #ring_freq = random.choice([216, 654, 846.5, 982, 1053.5])                              \n",
    "                (piece.synth_player.note()\n",
    "                    .sound_mono(GLASS_TONE_SOUND, 1, piece.synth_player.control_instruments.static_control(1))\n",
    "                    .ring_modulate(piece.synth_player.control_instruments.static_control(ring_freq))\n",
    "                    .pan(piece.synth_player.control_instruments.static_control(0))\n",
    "                    .play(patch_arguments.start))\n",
    "            case 1:    \n",
    "                ring_freq = random.choice([845, 951, 1060, 1162, 1327, 1466])              \n",
    "                #ring_freq = random.choice([216, 654, 846.5, 982, 1053.5])                \n",
    "                (piece.synth_player.note()\n",
    "                    .sound_mono(GLASS_HIT_SOUND, 1, piece.synth_player.control_instruments.static_control(1))                \n",
    "                    .ring_modulate(piece.synth_player.control_instruments.static_control(ring_freq))\n",
    "                    .pan(piece.synth_player.control_instruments.static_control(0))\n",
    "                    .play(patch_arguments.start))\n",
    "            case 2:\n",
    "                (piece.synth_player.note()\n",
    "                    .sound_mono(VASE_TONE_SOUND, 1, piece.synth_player.control_instruments.static_control(1))\n",
    "                    .pan(piece.synth_player.control_instruments.static_control(0))\n",
    "                    .play(patch_arguments.start))\n",
    "            case 3:\n",
    "                duration = 5                \n",
    "                ring_freq = random.choice([845, 951, 1060, 1162, 1327, 1466])                \n",
    "                (piece.synth_player.note()\n",
    "                    .sound_mono(GLASS_TONE_SOUND, 1, piece.synth_player.control_instruments.static_control(1))                    \n",
    "                    .ring_modulate(piece.synth_player.control_instruments.static_control(ring_freq))\n",
    "                    .pan(piece.synth_player.control_instruments.static_control(0))\n",
    "                    .stereo_free_reverb(piece.synth_player.control_instruments.sine_control(0, 5), mix=0.33, room=0.5, damp=0.8) \\\n",
    "                    .play(patch_arguments.start, duration))\n",
    "            case 4:\n",
    "                duration = 5          \n",
    "                ring_freq = random.choice([216, 654, 846.5, 982, 1053.5])                    \n",
    "                (piece.synth_player.note()\n",
    "                    .sound_mono(GLASS_HIT_SOUND, 1, piece.synth_player.control_instruments.static_control(1))     \n",
    "                    .ring_modulate(piece.synth_player.control_instruments.static_control(ring_freq))               \n",
    "                    .pan(piece.synth_player.control_instruments.static_control(0))\n",
    "                    .stereo_g_verb(piece.synth_player.control_instruments.sine_control(0, 2), roomsize=50, revtime=duration) \\\n",
    "                    .play(patch_arguments.start, duration))\n",
    "            case 5:\n",
    "                duration = 5\n",
    "                (piece.synth_player.note()\n",
    "                    .sound_mono(VASE_TONE_SOUND, 0.2, piece.synth_player.control_instruments.static_control(1))\n",
    "                    .pan(piece.synth_player.control_instruments.static_control(0))\n",
    "                    .stereo_g_verb(piece.synth_player.control_instruments.sine_control(0, 1), roomsize=50, revtime=duration) \\\n",
    "                    .play(patch_arguments.start, duration))\n",
    "\n",
    "my_handler = GlassToneRingHandler(piece.supercollider_client)\n",
    "piece.receiver.set_note_handler(my_handler)                    \n",
    "\n"
   ]
  },
  {
   "cell_type": "code",
   "execution_count": null,
   "metadata": {},
   "outputs": [],
   "source": [
    "piece.stop()"
   ]
  },
  {
   "cell_type": "code",
   "execution_count": 68,
   "metadata": {},
   "outputs": [
    {
     "data": {
      "text/plain": [
       "0.25443786982248523"
      ]
     },
     "execution_count": 68,
     "metadata": {},
     "output_type": "execute_result"
    }
   ],
   "source": [
    "ring_modulate(1060, 845)\n",
    "\n",
    "215 / 845 \n",
    "\n"
   ]
  }
 ],
 "metadata": {
  "kernelspec": {
   "display_name": "Python 3",
   "language": "python",
   "name": "python3"
  },
  "language_info": {
   "codemirror_mode": {
    "name": "ipython",
    "version": 3
   },
   "file_extension": ".py",
   "mimetype": "text/x-python",
   "name": "python",
   "nbconvert_exporter": "python",
   "pygments_lexer": "ipython3",
   "version": "3.11.7"
  }
 },
 "nbformat": 4,
 "nbformat_minor": 2
}
