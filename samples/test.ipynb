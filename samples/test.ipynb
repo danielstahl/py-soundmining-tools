{
 "cells": [
  {
   "cell_type": "code",
   "execution_count": 1,
   "metadata": {},
   "outputs": [],
   "source": [
    "import sys\n",
    " \n",
    "sys.path.append('..')\n",
    "from piece import piece\n",
    "piece.start()"
   ]
  },
  {
   "cell_type": "code",
   "execution_count": 2,
   "metadata": {},
   "outputs": [],
   "source": [
    "piece.reset()\n",
    "piece.synth_player.start()\n",
    "piece.synth_player.note() \\\n",
    "    .sine(piece.control_instruments.static_control(440), piece.control_instruments.sine_control(0, 1)) \\\n",
    "    .pan(piece.control_instruments.static_control(0)) \\\n",
    "    .play(0, 1)\n",
    "\n",
    "piece.synth_player.note() \\\n",
    "    .sine(piece.control_instruments.static_control(220), piece.control_instruments.sine_control(0, 1)) \\\n",
    "    .pan(piece.control_instruments.static_control(0)) \\\n",
    "    .play(1, 1)\n",
    "    \n"
   ]
  },
  {
   "cell_type": "code",
   "execution_count": 2,
   "metadata": {},
   "outputs": [
    {
     "data": {
      "text/plain": [
       "<soundmining_tools.modular.synth_player.SynthPlayer at 0x10711f1d0>"
      ]
     },
     "execution_count": 2,
     "metadata": {},
     "output_type": "execute_result"
    }
   ],
   "source": [
    "piece.reset()\n",
    "piece.synth_player \\\n",
    "    .add_sound(\"wood_hit_1\", \"/Users/danielstahl/Documents/Projects/py-soundmining-tools/samples/Wood hit 1.flac\", 0.201, 0.339) \\\n",
    "    .start()"
   ]
  },
  {
   "cell_type": "code",
   "execution_count": 5,
   "metadata": {},
   "outputs": [],
   "source": [
    "piece.synth_player.note() \\\n",
    "    .sound_mono(\"wood_hit_1\", 1, piece.control_instruments.static_control(1)) \\\n",
    "    .pan(piece.control_instruments.static_control(0)) \\\n",
    "    .play(0)"
   ]
  },
  {
   "cell_type": "code",
   "execution_count": 6,
   "metadata": {},
   "outputs": [
    {
     "name": "stderr",
     "output_type": "stream",
     "text": [
      "WARNING:root:/Users/danielstahl/Documents/Projects/py-soundmining-tools/samples/Wood hit 1.flac is not allocated\n"
     ]
    }
   ],
   "source": [
    "piece.stop()"
   ]
  },
  {
   "cell_type": "code",
   "execution_count": null,
   "metadata": {},
   "outputs": [],
   "source": [
    "from math import pi\n",
    "\n",
    "from ipycanvas import Canvas\n",
    "\n",
    "canvas = Canvas(width=200, height=200)\n",
    "\n",
    "canvas.fill_style = \"red\"\n",
    "canvas.stroke_style = \"blue\"\n",
    "\n",
    "canvas.fill_arc(60, 60, 50, 0, pi)\n",
    "canvas.stroke_circle(60, 60, 40)\n",
    "\n",
    "canvas"
   ]
  },
  {
   "cell_type": "code",
   "execution_count": null,
   "metadata": {},
   "outputs": [],
   "source": []
  },
  {
   "cell_type": "code",
   "execution_count": null,
   "metadata": {},
   "outputs": [],
   "source": []
  },
  {
   "cell_type": "code",
   "execution_count": null,
   "metadata": {},
   "outputs": [],
   "source": []
  },
  {
   "cell_type": "code",
   "execution_count": null,
   "metadata": {},
   "outputs": [],
   "source": []
  }
 ],
 "metadata": {
  "kernelspec": {
   "display_name": ".venv",
   "language": "python",
   "name": "python3"
  },
  "language_info": {
   "codemirror_mode": {
    "name": "ipython",
    "version": 3
   },
   "file_extension": ".py",
   "mimetype": "text/x-python",
   "name": "python",
   "nbconvert_exporter": "python",
   "pygments_lexer": "ipython3",
   "version": "3.11.4"
  },
  "orig_nbformat": 4
 },
 "nbformat": 4,
 "nbformat_minor": 2
}
