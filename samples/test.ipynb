{
 "cells": [
  {
   "cell_type": "code",
   "execution_count": null,
   "metadata": {},
   "outputs": [],
   "source": [
    "import sys\n",
    " \n",
    "sys.path.append('..')\n",
    "from piece import piece\n",
    "piece.start()"
   ]
  },
  {
   "cell_type": "code",
   "execution_count": null,
   "metadata": {},
   "outputs": [],
   "source": [
    "piece.reset()\n",
    "piece.synth_player.start()\n",
    "piece.synth_player.note() \\\n",
    "    .sine(piece.control_instruments.static_control(440), piece.control_instruments.sine_control(0, 1)) \\\n",
    "    .pan(piece.control_instruments.static_control(0)) \\\n",
    "    .play(0, 1)\n",
    "\n",
    "piece.synth_player.note() \\\n",
    "    .sine(piece.control_instruments.static_control(220), piece.control_instruments.sine_control(0, 1)) \\\n",
    "    .pan(piece.control_instruments.static_control(0)) \\\n",
    "    .play(1, 1)\n",
    "    \n"
   ]
  },
  {
   "cell_type": "code",
   "execution_count": null,
   "metadata": {},
   "outputs": [],
   "source": [
    "piece.reset()\n",
    "piece.synth_player \\\n",
    "    .add_sound(\"wood_hit_1\", \"/Users/danielstahl/Documents/Projects/py-soundmining-tools/samples/Wood hit 1.flac\", 0.201, 0.339) \\\n",
    "    .start()"
   ]
  },
  {
   "cell_type": "code",
   "execution_count": null,
   "metadata": {},
   "outputs": [],
   "source": [
    "piece.synth_player.note() \\\n",
    "    .sound_mono(\"wood_hit_1\", 1, piece.control_instruments.static_control(1)) \\\n",
    "    .pan(piece.control_instruments.static_control(0)) \\\n",
    "    .play(0)"
   ]
  },
  {
   "cell_type": "code",
   "execution_count": null,
   "metadata": {},
   "outputs": [],
   "source": [
    "from soundmining_tools.supercollider_client import SupercolliderClient\n",
    "from soundmining_tools.supercollider_receiver import ExtendedNoteHandler, PatchArguments\n",
    "\n",
    "class MyHandler(ExtendedNoteHandler):\n",
    "    def __init__(self, client: SupercolliderClient) -> None:\n",
    "        super().__init__(client)\n",
    "\n",
    "    def handle_note(self, patch_arguments: PatchArguments) -> None:\n",
    "        print(f\"Patch arguments {patch_arguments}\")\n",
    "\n",
    "my_handler = MyHandler(piece.supercollider_client)\n",
    "\n",
    "piece.receiver.set_note_handler(my_handler)"
   ]
  },
  {
   "cell_type": "code",
   "execution_count": null,
   "metadata": {},
   "outputs": [],
   "source": [
    "piece.stop()"
   ]
  },
  {
   "cell_type": "code",
   "execution_count": null,
   "metadata": {},
   "outputs": [],
   "source": [
    "from math import pi\n",
    "\n",
    "from ipycanvas import Canvas\n",
    "\n",
    "canvas = Canvas(width=200, height=200)\n",
    "\n",
    "canvas.fill_style = \"red\"\n",
    "canvas.stroke_style = \"blue\"\n",
    "\n",
    "canvas.fill_arc(60, 60, 50, 0, pi)\n",
    "canvas.stroke_circle(60, 60, 40)\n",
    "\n",
    "canvas"
   ]
  },
  {
   "cell_type": "code",
   "execution_count": null,
   "metadata": {},
   "outputs": [],
   "source": [
    "import matplotlib.pyplot as plt\n",
    "\n",
    "from soundmining_tools import spectrum\n",
    "from soundmining_tools import note\n",
    "d2 = note.note_to_hertz(\"d2\")\n",
    "h2 = note.note_to_hertz(\"h2\")\n",
    "fact = spectrum.make_fact(d2, h2)\n",
    "spect = spectrum.make_spectrum(d2, fact, 15)\n",
    "fig, ax = plt.subplots()\n",
    "x_values = list(range(1, 16))\n",
    "ax.scatter(x_values, spect)\n",
    "plt.show()\n"
   ]
  },
  {
   "cell_type": "code",
   "execution_count": null,
   "metadata": {},
   "outputs": [],
   "source": [
    "from soundmining_tools import spectrum\n",
    "from soundmining_tools import note\n",
    "from soundmining_tools.sieve import *\n",
    "\n",
    "d2 = note.note_to_hertz(\"d2\")\n",
    "h2 = note.note_to_hertz(\"h2\")\n",
    "fact = spectrum.make_fact(d2, h2)\n",
    "spect = spectrum.make_spectrum(d2, fact, 15)\n",
    "\n",
    "sieve = UnionSieve([SimpleSieve(3, 0), SimpleSieve(4, 1)])\n",
    "amp_values = [1.0 / (i + 1.0) if sieve.is_sieve(i) else 0.0 for i in range(15)]\n",
    "phases = [0.0 for i in range(15)]\n",
    "\n",
    "piece.reset()\n",
    "piece.synth_player.start()\n",
    "piece.synth_player.note() \\\n",
    "    .bank_of_osc(spect, amp_values, phases) \\\n",
    "    .mono_volume(piece.control_instruments.sine_control(0, 1)) \\\n",
    "    .pan(piece.control_instruments.static_control(0)) \\\n",
    "    .play(0, 2)\n",
    "\n",
    "    "
   ]
  },
  {
   "cell_type": "code",
   "execution_count": null,
   "metadata": {},
   "outputs": [],
   "source": [
    "# ipwidgets https://ipywidgets.readthedocs.io/en/stable/\n"
   ]
  },
  {
   "cell_type": "code",
   "execution_count": null,
   "metadata": {},
   "outputs": [],
   "source": [
    "from soundmining_tools import note, spectrum\n",
    "from soundmining_tools.sieve import SimpleSieve, UnionSieve\n",
    "from soundmining_tools.supercollider_client import SupercolliderClient\n",
    "from soundmining_tools.supercollider_receiver import ExtendedNoteHandler, PatchArguments\n",
    "\n",
    "fundamental = note.note_to_hertz(\"a1\")\n",
    "first_partial = note.note_to_hertz(\"h2\")\n",
    "scale_size = 4\n",
    "fact = spectrum.make_fact(fundamental, first_partial)\n",
    "fundamental_cents = note.hertz_to_cents(fundamental)\n",
    "octave_cents = note.hertz_to_cents(first_partial) - fundamental_cents\n",
    "note_cents = octave_cents / scale_size\n",
    "scale = [note.cents_to_hertz(fundamental_cents + (note_cents * i)) for i in range(8)]\n",
    "scale_spectrums = [spectrum.make_spectrum(note, fact, 15) for note in scale]\n",
    "\n",
    "sieve = UnionSieve([SimpleSieve(3, 0), SimpleSieve(4, 1)])\n",
    "\n",
    "amp_values = [1.0 / (i + 1.0) if sieve.is_sieve(i) else 0.0 for i in range(15)]\n",
    "phases = [0.0 for i in range(15)]\n",
    "\n",
    "piece.reset()\n",
    "piece.synth_player.start()\n",
    "\n",
    "class MyHandler(ExtendedNoteHandler):\n",
    "    def __init__(self, client: SupercolliderClient) -> None:\n",
    "        super().__init__(client)\n",
    "\n",
    "    def handle_note(self, patch_arguments: PatchArguments) -> None:\n",
    "        spect = scale_spectrums[patch_arguments.note]\n",
    "        piece.synth_player.note() \\\n",
    "            .bank_of_osc(spect, amp_values, phases) \\\n",
    "            .high_pass_filter(piece.control_instruments.static_control(spect[2])) \\\n",
    "            .low_pass_filter(piece.control_instruments.static_control(spect[7])) \\\n",
    "            .mono_volume(piece.control_instruments.three_block_control((0, 0.7, 0.5, 0), (0.1, 0.5, 0.4), (0, 0, 0))) \\\n",
    "            .pan(piece.control_instruments.static_control(0)) \\\n",
    "            .play(0, 2)\n",
    "\n",
    "my_handler = MyHandler(piece.supercollider_client)\n",
    "\n",
    "piece.receiver.set_note_handler(my_handler)\n"
   ]
  },
  {
   "cell_type": "code",
   "execution_count": null,
   "metadata": {},
   "outputs": [],
   "source": []
  }
 ],
 "metadata": {
  "kernelspec": {
   "display_name": ".venv",
   "language": "python",
   "name": "python3"
  },
  "language_info": {
   "codemirror_mode": {
    "name": "ipython",
    "version": 3
   },
   "file_extension": ".py",
   "mimetype": "text/x-python",
   "name": "python",
   "nbconvert_exporter": "python",
   "pygments_lexer": "ipython3",
   "version": "3.11.7"
  },
  "orig_nbformat": 4
 },
 "nbformat": 4,
 "nbformat_minor": 2
}
